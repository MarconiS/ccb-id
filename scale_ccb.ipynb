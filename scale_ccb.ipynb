{
 "cells": [
  {
   "cell_type": "code",
   "execution_count": 1,
   "metadata": {},
   "outputs": [],
   "source": [
    "# apply CCB from Anderson 2018 to build the model and apply it to OSBS "
   ]
  },
  {
   "cell_type": "code",
   "execution_count": 24,
   "metadata": {},
   "outputs": [],
   "source": [
    "import sys\n",
    "import ccbid\n",
    "import numpy as np\n",
    "from ccbid import args\n",
    "from ccbid import prnt\n",
    "from sklearn import metrics\n",
    "from sklearn import model_selection\n",
    "import pandas as pd\n",
    "import math\n"
   ]
  },
  {
   "cell_type": "code",
   "execution_count": 78,
   "metadata": {},
   "outputs": [
    {
     "data": {
      "text/html": [
       "<div>\n",
       "<style scoped>\n",
       "    .dataframe tbody tr th:only-of-type {\n",
       "        vertical-align: middle;\n",
       "    }\n",
       "\n",
       "    .dataframe tbody tr th {\n",
       "        vertical-align: top;\n",
       "    }\n",
       "\n",
       "    .dataframe thead th {\n",
       "        text-align: right;\n",
       "    }\n",
       "</style>\n",
       "<table border=\"1\" class=\"dataframe\">\n",
       "  <thead>\n",
       "    <tr style=\"text-align: right;\">\n",
       "      <th></th>\n",
       "      <th>Unnamed: 0</th>\n",
       "      <th>band_1</th>\n",
       "      <th>band_2</th>\n",
       "      <th>band_3</th>\n",
       "      <th>band_4</th>\n",
       "      <th>band_5</th>\n",
       "      <th>band_6</th>\n",
       "      <th>band_7</th>\n",
       "      <th>band_8</th>\n",
       "      <th>band_9</th>\n",
       "      <th>...</th>\n",
       "      <th>band_417</th>\n",
       "      <th>band_418</th>\n",
       "      <th>band_419</th>\n",
       "      <th>band_420</th>\n",
       "      <th>band_421</th>\n",
       "      <th>band_422</th>\n",
       "      <th>band_423</th>\n",
       "      <th>band_424</th>\n",
       "      <th>band_425</th>\n",
       "      <th>band_426</th>\n",
       "    </tr>\n",
       "  </thead>\n",
       "  <tbody>\n",
       "    <tr>\n",
       "      <th>0</th>\n",
       "      <td>0</td>\n",
       "      <td>0.001244</td>\n",
       "      <td>0.001919</td>\n",
       "      <td>0.002731</td>\n",
       "      <td>0.001719</td>\n",
       "      <td>0.001276</td>\n",
       "      <td>0.001170</td>\n",
       "      <td>0.001455</td>\n",
       "      <td>0.001550</td>\n",
       "      <td>0.001613</td>\n",
       "      <td>...</td>\n",
       "      <td>0.003311</td>\n",
       "      <td>0.003965</td>\n",
       "      <td>0.002741</td>\n",
       "      <td>0.009447</td>\n",
       "      <td>0.013633</td>\n",
       "      <td>0.030693</td>\n",
       "      <td>0.019348</td>\n",
       "      <td>0.017482</td>\n",
       "      <td>0.054217</td>\n",
       "      <td>0.094316</td>\n",
       "    </tr>\n",
       "    <tr>\n",
       "      <th>1</th>\n",
       "      <td>11</td>\n",
       "      <td>0.002044</td>\n",
       "      <td>0.002158</td>\n",
       "      <td>0.002292</td>\n",
       "      <td>0.001858</td>\n",
       "      <td>0.001270</td>\n",
       "      <td>0.001301</td>\n",
       "      <td>0.001538</td>\n",
       "      <td>0.001414</td>\n",
       "      <td>0.001724</td>\n",
       "      <td>...</td>\n",
       "      <td>0.004181</td>\n",
       "      <td>0.005234</td>\n",
       "      <td>0.005193</td>\n",
       "      <td>0.009838</td>\n",
       "      <td>0.013637</td>\n",
       "      <td>0.031765</td>\n",
       "      <td>0.021235</td>\n",
       "      <td>0.023775</td>\n",
       "      <td>0.049211</td>\n",
       "      <td>0.123013</td>\n",
       "    </tr>\n",
       "    <tr>\n",
       "      <th>2</th>\n",
       "      <td>22</td>\n",
       "      <td>0.000871</td>\n",
       "      <td>0.001334</td>\n",
       "      <td>0.001583</td>\n",
       "      <td>0.001730</td>\n",
       "      <td>0.000916</td>\n",
       "      <td>0.000995</td>\n",
       "      <td>0.001007</td>\n",
       "      <td>0.001086</td>\n",
       "      <td>0.001278</td>\n",
       "      <td>...</td>\n",
       "      <td>0.003438</td>\n",
       "      <td>0.003427</td>\n",
       "      <td>0.003506</td>\n",
       "      <td>0.007679</td>\n",
       "      <td>0.016206</td>\n",
       "      <td>0.022437</td>\n",
       "      <td>0.014023</td>\n",
       "      <td>0.010337</td>\n",
       "      <td>0.027945</td>\n",
       "      <td>0.081630</td>\n",
       "    </tr>\n",
       "    <tr>\n",
       "      <th>3</th>\n",
       "      <td>25</td>\n",
       "      <td>0.001630</td>\n",
       "      <td>0.001912</td>\n",
       "      <td>0.002518</td>\n",
       "      <td>0.001901</td>\n",
       "      <td>0.001254</td>\n",
       "      <td>0.001389</td>\n",
       "      <td>0.001400</td>\n",
       "      <td>0.001421</td>\n",
       "      <td>0.001640</td>\n",
       "      <td>...</td>\n",
       "      <td>0.004304</td>\n",
       "      <td>0.003938</td>\n",
       "      <td>0.004763</td>\n",
       "      <td>0.008900</td>\n",
       "      <td>0.017905</td>\n",
       "      <td>0.025342</td>\n",
       "      <td>0.018845</td>\n",
       "      <td>0.017571</td>\n",
       "      <td>0.037815</td>\n",
       "      <td>0.093138</td>\n",
       "    </tr>\n",
       "    <tr>\n",
       "      <th>4</th>\n",
       "      <td>28</td>\n",
       "      <td>0.001427</td>\n",
       "      <td>0.001558</td>\n",
       "      <td>0.002016</td>\n",
       "      <td>0.001852</td>\n",
       "      <td>0.001068</td>\n",
       "      <td>0.001286</td>\n",
       "      <td>0.001264</td>\n",
       "      <td>0.001384</td>\n",
       "      <td>0.001493</td>\n",
       "      <td>...</td>\n",
       "      <td>0.003432</td>\n",
       "      <td>0.004532</td>\n",
       "      <td>0.004543</td>\n",
       "      <td>0.006624</td>\n",
       "      <td>0.012649</td>\n",
       "      <td>0.026649</td>\n",
       "      <td>0.016244</td>\n",
       "      <td>0.014436</td>\n",
       "      <td>0.041815</td>\n",
       "      <td>0.068584</td>\n",
       "    </tr>\n",
       "  </tbody>\n",
       "</table>\n",
       "<p>5 rows × 427 columns</p>\n",
       "</div>"
      ],
      "text/plain": [
       "   Unnamed: 0    band_1    band_2    band_3    band_4    band_5    band_6  \\\n",
       "0           0  0.001244  0.001919  0.002731  0.001719  0.001276  0.001170   \n",
       "1          11  0.002044  0.002158  0.002292  0.001858  0.001270  0.001301   \n",
       "2          22  0.000871  0.001334  0.001583  0.001730  0.000916  0.000995   \n",
       "3          25  0.001630  0.001912  0.002518  0.001901  0.001254  0.001389   \n",
       "4          28  0.001427  0.001558  0.002016  0.001852  0.001068  0.001286   \n",
       "\n",
       "     band_7    band_8    band_9    ...     band_417  band_418  band_419  \\\n",
       "0  0.001455  0.001550  0.001613    ...     0.003311  0.003965  0.002741   \n",
       "1  0.001538  0.001414  0.001724    ...     0.004181  0.005234  0.005193   \n",
       "2  0.001007  0.001086  0.001278    ...     0.003438  0.003427  0.003506   \n",
       "3  0.001400  0.001421  0.001640    ...     0.004304  0.003938  0.004763   \n",
       "4  0.001264  0.001384  0.001493    ...     0.003432  0.004532  0.004543   \n",
       "\n",
       "   band_420  band_421  band_422  band_423  band_424  band_425  band_426  \n",
       "0  0.009447  0.013633  0.030693  0.019348  0.017482  0.054217  0.094316  \n",
       "1  0.009838  0.013637  0.031765  0.021235  0.023775  0.049211  0.123013  \n",
       "2  0.007679  0.016206  0.022437  0.014023  0.010337  0.027945  0.081630  \n",
       "3  0.008900  0.017905  0.025342  0.018845  0.017571  0.037815  0.093138  \n",
       "4  0.006624  0.012649  0.026649  0.016244  0.014436  0.041815  0.068584  \n",
       "\n",
       "[5 rows x 427 columns]"
      ]
     },
     "execution_count": 78,
     "metadata": {},
     "output_type": "execute_result"
    }
   ],
   "source": [
    "data = pd.read_csv(\"./ccbid/support_files/training.csv\")\n",
    "data.head()"
   ]
  },
  {
   "cell_type": "code",
   "execution_count": 21,
   "metadata": {},
   "outputs": [],
   "source": [
    "df = data.drop(['crown_id'], axis=1)\n",
    "ndvi = (df['band_90'] - df['band_58'])/(df['band_58'] +df['band_90']) <0.5\n",
    "nir860 = (df['band_96'] + df['band_97'])/2 < 0.3\n",
    "naval = ndvi | nir860\n",
    "df = df[naval]"
   ]
  },
  {
   "cell_type": "code",
   "execution_count": 65,
   "metadata": {},
   "outputs": [],
   "source": [
    "dat = df**2\n",
    "normMat = dat.apply(np.sum, axis=1)\n",
    "normMat = normMat.pow(1./2)"
   ]
  },
  {
   "cell_type": "code",
   "execution_count": 66,
   "metadata": {},
   "outputs": [],
   "source": [
    "normMat = np.tile(normMat, (len(df.columns),1))\n",
    "\n",
    "normMat=df/np.transpose(normMat)"
   ]
  },
  {
   "cell_type": "code",
   "execution_count": 77,
   "metadata": {},
   "outputs": [],
   "source": [
    "normMat.to_csv(\"./ccbid/support_files/new_training.csv\")"
   ]
  },
  {
   "cell_type": "code",
   "execution_count": 79,
   "metadata": {},
   "outputs": [],
   "source": [
    "import matplotlib.pyplot as plt\n",
    "\n",
    "#normMat.T.plot()\n",
    "#plt.show()"
   ]
  },
  {
   "cell_type": "code",
   "execution_count": 93,
   "metadata": {},
   "outputs": [],
   "source": []
  },
  {
   "cell_type": "code",
   "execution_count": 95,
   "metadata": {},
   "outputs": [
    {
     "data": {
      "text/plain": [
       "<module 'ccbid' from '/Users/sergiomarconi/Documents/GitHub/ccb-id/ccbid/__init__.py'>"
      ]
     },
     "execution_count": 95,
     "metadata": {},
     "output_type": "execute_result"
    }
   ],
   "source": []
  },
  {
   "cell_type": "code",
   "execution_count": null,
   "metadata": {},
   "outputs": [],
   "source": []
  }
 ],
 "metadata": {
  "kernelspec": {
   "display_name": "Python 3",
   "language": "python",
   "name": "python3"
  },
  "language_info": {
   "codemirror_mode": {
    "name": "ipython",
    "version": 3
   },
   "file_extension": ".py",
   "mimetype": "text/x-python",
   "name": "python",
   "nbconvert_exporter": "python",
   "pygments_lexer": "ipython3",
   "version": "3.6.8"
  }
 },
 "nbformat": 4,
 "nbformat_minor": 2
}
